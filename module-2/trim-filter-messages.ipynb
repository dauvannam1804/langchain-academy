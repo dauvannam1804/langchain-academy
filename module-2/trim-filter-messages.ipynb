{
 "cells": [
  {
   "cell_type": "markdown",
   "id": "fb0ebaf1",
   "metadata": {},
   "source": [
    "[![Open in Colab](https://colab.research.google.com/assets/colab-badge.svg)](https://colab.research.google.com/github/langchain-ai/langchain-academy/blob/main/module-2/trim-filter-messages.ipynb) [![Open in LangChain Academy](https://cdn.prod.website-files.com/65b8cd72835ceeacd4449a53/66e9eba12c7b7688aa3dbb5e_LCA-badge-green.svg)](https://academy.langchain.com/courses/take/intro-to-langgraph/lessons/58239435-lesson-4-trim-and-filter-messages)"
   ]
  },
  {
   "cell_type": "markdown",
   "id": "c52ea2f9-03ff-4647-b782-46867ebed04e",
   "metadata": {},
   "source": [
    "# Filtering and trimming messages\n",
    "\n",
    "## Review\n",
    "\n",
    "Now, we have a deeper understanding of a few things: \n",
    "\n",
    "* How to customize the graph state schema\n",
    "* How to define custom state reducers\n",
    "* How to use multiple graph state schemas\n",
    "\n",
    "## Goals\n",
    "\n",
    "Now, we can start using these concepts with models in LangGraph!\n",
    " \n",
    "In the next few sessions, we'll build towards a chatbot that has long-term memory.\n",
    "\n",
    "Because our chatbot will use messages, let's first talk a bit more about advanced ways to work with messages in graph state."
   ]
  },
  {
   "cell_type": "code",
   "execution_count": 1,
   "id": "d5197aba-5d46-421b-ae3b-4e3034edcfda",
   "metadata": {},
   "outputs": [],
   "source": [
    "# %%capture --no-stderr\n",
    "# %pip install --quiet -U langchain_core langgraph langchain_openai"
   ]
  },
  {
   "cell_type": "code",
   "execution_count": 2,
   "id": "768dc606-d5f2-468d-96ea-910b264e0f8a",
   "metadata": {},
   "outputs": [],
   "source": [
    "import os\n",
    "from dotenv import load_dotenv\n",
    "\n",
    "load_dotenv()\n",
    "\n",
    "def _set_env(var: str):\n",
    "    if not os.environ.get(var):\n",
    "        os.environ[var] = os.getenv(var)\n",
    "\n",
    "# _set_env(\"OPENAI_API_KEY\")"
   ]
  },
  {
   "cell_type": "markdown",
   "id": "8b64d8d3-e4ac-4961-bdc0-688825eb5864",
   "metadata": {},
   "source": [
    "We'll use [LangSmith](https://docs.smith.langchain.com/) for [tracing](https://docs.smith.langchain.com/concepts/tracing).\n",
    "\n",
    "We'll log to a project, `langchain-academy`. "
   ]
  },
  {
   "cell_type": "code",
   "execution_count": 3,
   "id": "dd020c79",
   "metadata": {},
   "outputs": [],
   "source": [
    "_set_env(\"LANGSMITH_API_KEY\")\n",
    "os.environ[\"LANGSMITH_TRACING\"] = \"true\"\n",
    "os.environ[\"LANGSMITH_PROJECT\"] = \"langchain-academy\""
   ]
  },
  {
   "cell_type": "markdown",
   "id": "72f3fc90-58b6-4f7f-897e-dddf6ae532c7",
   "metadata": {},
   "source": [
    "## Messages as state\n",
    "\n",
    "First, let's define some messages."
   ]
  },
  {
   "cell_type": "code",
   "execution_count": 4,
   "id": "cf11a463-e27a-4a05-b41d-64882e38edca",
   "metadata": {},
   "outputs": [
    {
     "name": "stdout",
     "output_type": "stream",
     "text": [
      "==================================\u001b[1m Ai Message \u001b[0m==================================\n",
      "Name: Bot\n",
      "\n",
      "So you said you were researching ocean mammals?\n",
      "================================\u001b[1m Human Message \u001b[0m=================================\n",
      "Name: Lance\n",
      "\n",
      "Yes, I know about whales. But what others should I learn about?\n"
     ]
    }
   ],
   "source": [
    "from pprint import pprint\n",
    "from langchain_core.messages import AIMessage, HumanMessage\n",
    "messages = [AIMessage(f\"So you said you were researching ocean mammals?\", name=\"Bot\")]\n",
    "messages.append(HumanMessage(f\"Yes, I know about whales. But what others should I learn about?\", name=\"Lance\"))\n",
    "\n",
    "for m in messages:\n",
    "    m.pretty_print()"
   ]
  },
  {
   "cell_type": "markdown",
   "id": "b814adcb-6bf9-4b75-be11-e59f933fbd0c",
   "metadata": {},
   "source": [
    "Recall we can pass them to a chat model."
   ]
  },
  {
   "cell_type": "code",
   "execution_count": 5,
   "id": "4712e288-e622-48a2-ad3f-a52f65f3ab08",
   "metadata": {},
   "outputs": [
    {
     "data": {
      "text/plain": [
       "AIMessage(content=\"There are many fascinating ocean mammals beyond whales! Here are some examples:\\n\\n1. **Dolphins**: Known for their intelligence and social behavior, dolphins are highly intelligent creatures that can be found in oceans all around the world.\\n2. **Seals and Sea Lions**: These pinnipeds (fin-footed mammals) are well adapted to life in the water, with flippers or wings that allow them to swim and dive with ease.\\n3. **Walruses**: With their distinctive tusks and blubbery bodies, walruses are one of the most iconic Arctic creatures.\\n4. **Manatees and Dugongs**: These slow-moving, herbivorous mammals are found in warm waters around the world and play an important role in maintaining healthy coral reefs.\\n5. **Otters**: While often seen on land, otters are excellent swimmers and can be found in oceans from the Arctic to the Antarctic.\\n6. **Seals' cousins: Walrus' relatives, like the **Walrus** and the **Bearded Seal**, which have similar characteristics but distinct differences in their appearance, behavior, and habitat.\\n7. **Pinnipeds that are lesser-known**: Like the **Northern Elephant Seal**, **Southern Elephant Seal**, or **Weddell Seal**, which each have unique adaptations to survive in their respective environments.\\n\\nEach of these ocean mammals has evolved remarkable strategies for survival and social interaction. Learning about them can reveal fascinating insights into the natural world!\", additional_kwargs={}, response_metadata={'model': 'llama3.2:3b', 'created_at': '2025-06-09T16:01:44.642416242Z', 'done': True, 'done_reason': 'stop', 'total_duration': 40406810417, 'load_duration': 5806557399, 'prompt_eval_count': 54, 'prompt_eval_duration': 1932525531, 'eval_count': 301, 'eval_duration': 32664158369, 'model_name': 'llama3.2:3b'}, id='run--5e6093f7-d703-4f69-8594-0027a685631a-0', usage_metadata={'input_tokens': 54, 'output_tokens': 301, 'total_tokens': 355})"
      ]
     },
     "execution_count": 5,
     "metadata": {},
     "output_type": "execute_result"
    }
   ],
   "source": [
    "from langchain_ollama import ChatOllama\n",
    "llm = ChatOllama(model=\"llama3.2:3b\")\n",
    "llm.invoke(messages)"
   ]
  },
  {
   "cell_type": "markdown",
   "id": "fbd1dab8-0af8-4621-8264-ce65065f76ec",
   "metadata": {},
   "source": [
    "We can run our chat model in a simple graph with `MessagesState`."
   ]
  },
  {
   "cell_type": "code",
   "execution_count": 6,
   "id": "bbd8c39c-633b-4176-9cc6-8318e42bb5dd",
   "metadata": {},
   "outputs": [
    {
     "data": {
      "image/png": "[encoded data removed]",
      "text/plain": [
       "<IPython.core.display.Image object>"
      ]
     },
     "metadata": {},
     "output_type": "display_data"
    }
   ],
   "source": [
    "from IPython.display import Image, display\n",
    "from langgraph.graph import MessagesState\n",
    "from langgraph.graph import StateGraph, START, END\n",
    "\n",
    "# Node\n",
    "def chat_model_node(state: MessagesState):\n",
    "    return {\"messages\": llm.invoke(state[\"messages\"])}\n",
    "\n",
    "# Build graph\n",
    "builder = StateGraph(MessagesState)\n",
    "builder.add_node(\"chat_model\", chat_model_node)\n",
    "builder.add_edge(START, \"chat_model\")\n",
    "builder.add_edge(\"chat_model\", END)\n",
    "graph = builder.compile()\n",
    "\n",
    "# View\n",
    "display(Image(graph.get_graph().draw_mermaid_png()))"
   ]
  },
  {
   "cell_type": "code",
   "execution_count": 7,
   "id": "3a5a3e4a-ccfd-4d14-81f1-f0de6e11a1e4",
   "metadata": {},
   "outputs": [
    {
     "name": "stdout",
     "output_type": "stream",
     "text": [
      "==================================\u001b[1m Ai Message \u001b[0m==================================\n",
      "Name: Bot\n",
      "\n",
      "So you said you were researching ocean mammals?\n",
      "================================\u001b[1m Human Message \u001b[0m=================================\n",
      "Name: Lance\n",
      "\n",
      "Yes, I know about whales. But what others should I learn about?\n",
      "==================================\u001b[1m Ai Message \u001b[0m==================================\n",
      "\n",
      "There are many fascinating ocean mammals beyond whales! Here are a few you might find interesting:\n",
      "\n",
      "1. **Dolphins**: Known for their intelligence and social behavior, dolphins are highly adaptable and communicate using clicks and whistles.\n",
      "2. **Seals and Sea Lions**: These pinnipeds (fin-footed mammals) are found in both warm and cold waters and have unique adaptations for hunting and breeding.\n",
      "3. **Walruses**: With their distinctive tusks and blubbery skin, walruses are well-suited to life in the Arctic and sub-Arctic regions.\n",
      "4. **Manatees**: Also known as sea cows, manatees are large aquatic mammals that feed on aquatic plants and are found in shallow waters in the Caribbean and Gulf of Mexico.\n",
      "5. **Dugongs**: Another herbivorous marine mammal, dugongs are found in tropical waters of the Pacific and Indian Oceans and have a distinctive snout shape.\n",
      "\n",
      "These creatures offer a wealth of information about the diversity of ocean mammals and their adaptations to different environments.\n",
      "\n",
      "Would you like to know more about any of these species?\n"
     ]
    }
   ],
   "source": [
    "output = graph.invoke({'messages': messages})\n",
    "for m in output['messages']:\n",
    "    m.pretty_print()"
   ]
  },
  {
   "cell_type": "markdown",
   "id": "34c33e63-1ef4-412d-bb10-6a1b9e5b35a7",
   "metadata": {},
   "source": [
    "## Reducer\n",
    "\n",
    "A practical challenge when working with messages is managing long-running conversations. \n",
    "\n",
    "Long-running conversations result in high token usage and latency if we are not careful, because we pass a growing list of messages to the model.\n",
    "\n",
    "We have a few ways to address this.\n",
    "\n",
    "First, recall the trick we saw using `RemoveMessage` and the `add_messages` reducer."
   ]
  },
  {
   "cell_type": "code",
   "execution_count": 9,
   "id": "222c6bc5-bb0e-4a43-80f5-c8ec38d99f3a",
   "metadata": {},
   "outputs": [
    {
     "data": {
      "image/png": "[encoded data removed]",
      "text/plain": [
       "<IPython.core.display.Image object>"
      ]
     },
     "metadata": {},
     "output_type": "display_data"
    }
   ],
   "source": [
    "from langchain_core.messages import RemoveMessage\n",
    "\n",
    "# Nodes\n",
    "def filter_messages(state: MessagesState):\n",
    "    # Delete all but the 2 most recent messages\n",
    "    delete_messages = [RemoveMessage(id=m.id) for m in state[\"messages\"][:-2]]\n",
    "    return {\"messages\": delete_messages}\n",
    "\n",
    "def chat_model_node(state: MessagesState):    \n",
    "    return {\"messages\": [llm.invoke(state[\"messages\"])]}\n",
    "\n",
    "# Build graph\n",
    "builder = StateGraph(MessagesState)\n",
    "builder.add_node(\"filter\", filter_messages)\n",
    "builder.add_node(\"chat_model\", chat_model_node)\n",
    "builder.add_edge(START, \"filter\")\n",
    "builder.add_edge(\"filter\", \"chat_model\")\n",
    "builder.add_edge(\"chat_model\", END)\n",
    "graph = builder.compile()\n",
    "\n",
    "# View\n",
    "display(Image(graph.get_graph().draw_mermaid_png()))"
   ]
  },
  {
   "cell_type": "code",
   "execution_count": 10,
   "id": "95a7c2cc-54ce-43e7-9a90-abf37827d709",
   "metadata": {},
   "outputs": [
    {
     "name": "stdout",
     "output_type": "stream",
     "text": [
      "==================================\u001b[1m Ai Message \u001b[0m==================================\n",
      "Name: Bot\n",
      "\n",
      "So you said you were researching ocean mammals?\n",
      "================================\u001b[1m Human Message \u001b[0m=================================\n",
      "Name: Lance\n",
      "\n",
      "Yes, I know about whales. But what others should I learn about?\n",
      "==================================\u001b[1m Ai Message \u001b[0m==================================\n",
      "\n",
      "There are many fascinating ocean mammals beyond whales. Here are a few:\n",
      "\n",
      "1. **Dolphins**: Known for their intelligence and social behavior, dolphins are highly adaptable and can be found in oceans all around the world.\n",
      "2. **Seals and Sea Lions**: These marine mammals have adapted to life on land, with flippers instead of legs. They're commonly found in coastal areas and are popular at aquariums.\n",
      "3. **Walruses**: The largest of the pinnipeds (fin-footed mammals), walruses are known for their distinctive tusks and whiskers. They inhabit the Arctic and sub-Arctic regions.\n",
      "4. **Manatees and Dugongs**: These large, slow-moving mammals are found in shallow waters in the Caribbean and Indo-Pacific regions. They're herbivores and play a vital role in maintaining seaweed beds.\n",
      "5. **Otters**: While not exclusively ocean-dwellers, some otter species (like sea otters) spend most of their time at sea, using tools to crack open shells and feed on seafood.\n",
      "6. **Pinnipeds** (including **Monk Seals**, **Leopard Seals**, and **Weddell Seals**): These marine mammals are closely related to seals and sea lions but have distinct adaptations for life in the water.\n",
      "\n",
      "Each of these ocean mammals has unique characteristics, behaviors, and habitats that make them fascinating to learn about!\n",
      "\n",
      "Which one would you like to explore further?\n"
     ]
    }
   ],
   "source": [
    "# Message list with a preamble\n",
    "messages = [AIMessage(\"Hi.\", name=\"Bot\", id=\"1\")]\n",
    "messages.append(HumanMessage(\"Hi.\", name=\"Lance\", id=\"2\"))\n",
    "messages.append(AIMessage(\"So you said you were researching ocean mammals?\", name=\"Bot\", id=\"3\"))\n",
    "messages.append(HumanMessage(\"Yes, I know about whales. But what others should I learn about?\", name=\"Lance\", id=\"4\"))\n",
    "\n",
    "# Invoke\n",
    "output = graph.invoke({'messages': messages})\n",
    "for m in output['messages']:\n",
    "    m.pretty_print()"
   ]
  },
  {
   "cell_type": "markdown",
   "id": "f506457d-014b-4fee-a684-e5edfb4b8f0d",
   "metadata": {},
   "source": [
    "## Filtering messages\n",
    "\n",
    "If you don't need or want to modify the graph state, you can just filter the messages you pass to the chat model.\n",
    "\n",
    "For example, just pass in a filtered list: `llm.invoke(messages[-1:])` to the model."
   ]
  },
  {
   "cell_type": "code",
   "execution_count": 11,
   "id": "22d0b904-7cd6-486b-8948-105bee3d4683",
   "metadata": {},
   "outputs": [
    {
     "data": {
      "image/png": "[encoded data removed]",
      "text/plain": [
       "<IPython.core.display.Image object>"
      ]
     },
     "metadata": {},
     "output_type": "display_data"
    }
   ],
   "source": [
    "# Node\n",
    "def chat_model_node(state: MessagesState):\n",
    "    return {\"messages\": [llm.invoke(state[\"messages\"][-1:])]}\n",
    "\n",
    "# Build graph\n",
    "builder = StateGraph(MessagesState)\n",
    "builder.add_node(\"chat_model\", chat_model_node)\n",
    "builder.add_edge(START, \"chat_model\")\n",
    "builder.add_edge(\"chat_model\", END)\n",
    "graph = builder.compile()\n",
    "\n",
    "# View\n",
    "display(Image(graph.get_graph().draw_mermaid_png()))"
   ]
  },
  {
   "cell_type": "markdown",
   "id": "6f58c6fc-532f-418d-b70a-cfcb3307daf5",
   "metadata": {},
   "source": [
    "Let's take our existing list of messages, append the above LLM response, and append a follow-up question."
   ]
  },
  {
   "cell_type": "code",
   "execution_count": 12,
   "id": "16956015-1dbe-4108-89b5-4209b68b51ca",
   "metadata": {},
   "outputs": [],
   "source": [
    "messages.append(output['messages'][-1])\n",
    "messages.append(HumanMessage(f\"Tell me more about Narwhals!\", name=\"Lance\"))"
   ]
  },
  {
   "cell_type": "code",
   "execution_count": 13,
   "id": "85563415-c085-46a8-a4ac-155df798c54e",
   "metadata": {},
   "outputs": [
    {
     "name": "stdout",
     "output_type": "stream",
     "text": [
      "==================================\u001b[1m Ai Message \u001b[0m==================================\n",
      "Name: Bot\n",
      "\n",
      "Hi.\n",
      "================================\u001b[1m Human Message \u001b[0m=================================\n",
      "Name: Lance\n",
      "\n",
      "Hi.\n",
      "==================================\u001b[1m Ai Message \u001b[0m==================================\n",
      "Name: Bot\n",
      "\n",
      "So you said you were researching ocean mammals?\n",
      "================================\u001b[1m Human Message \u001b[0m=================================\n",
      "Name: Lance\n",
      "\n",
      "Yes, I know about whales. But what others should I learn about?\n",
      "==================================\u001b[1m Ai Message \u001b[0m==================================\n",
      "\n",
      "There are many fascinating ocean mammals beyond whales. Here are a few:\n",
      "\n",
      "1. **Dolphins**: Known for their intelligence and social behavior, dolphins are highly adaptable and can be found in oceans all around the world.\n",
      "2. **Seals and Sea Lions**: These marine mammals have adapted to life on land, with flippers instead of legs. They're commonly found in coastal areas and are popular at aquariums.\n",
      "3. **Walruses**: The largest of the pinnipeds (fin-footed mammals), walruses are known for their distinctive tusks and whiskers. They inhabit the Arctic and sub-Arctic regions.\n",
      "4. **Manatees and Dugongs**: These large, slow-moving mammals are found in shallow waters in the Caribbean and Indo-Pacific regions. They're herbivores and play a vital role in maintaining seaweed beds.\n",
      "5. **Otters**: While not exclusively ocean-dwellers, some otter species (like sea otters) spend most of their time at sea, using tools to crack open shells and feed on seafood.\n",
      "6. **Pinnipeds** (including **Monk Seals**, **Leopard Seals**, and **Weddell Seals**): These marine mammals are closely related to seals and sea lions but have distinct adaptations for life in the water.\n",
      "\n",
      "Each of these ocean mammals has unique characteristics, behaviors, and habitats that make them fascinating to learn about!\n",
      "\n",
      "Which one would you like to explore further?\n",
      "================================\u001b[1m Human Message \u001b[0m=================================\n",
      "Name: Lance\n",
      "\n",
      "Tell me more about Narwhals!\n"
     ]
    }
   ],
   "source": [
    "for m in messages:\n",
    "    m.pretty_print()"
   ]
  },
  {
   "cell_type": "code",
   "execution_count": 14,
   "id": "23349705-a059-47b5-9760-d8f64e687393",
   "metadata": {},
   "outputs": [
    {
     "name": "stdout",
     "output_type": "stream",
     "text": [
      "==================================\u001b[1m Ai Message \u001b[0m==================================\n",
      "Name: Bot\n",
      "\n",
      "Hi.\n",
      "================================\u001b[1m Human Message \u001b[0m=================================\n",
      "Name: Lance\n",
      "\n",
      "Hi.\n",
      "==================================\u001b[1m Ai Message \u001b[0m==================================\n",
      "Name: Bot\n",
      "\n",
      "So you said you were researching ocean mammals?\n",
      "================================\u001b[1m Human Message \u001b[0m=================================\n",
      "Name: Lance\n",
      "\n",
      "Yes, I know about whales. But what others should I learn about?\n",
      "==================================\u001b[1m Ai Message \u001b[0m==================================\n",
      "\n",
      "There are many fascinating ocean mammals beyond whales. Here are a few:\n",
      "\n",
      "1. **Dolphins**: Known for their intelligence and social behavior, dolphins are highly adaptable and can be found in oceans all around the world.\n",
      "2. **Seals and Sea Lions**: These marine mammals have adapted to life on land, with flippers instead of legs. They're commonly found in coastal areas and are popular at aquariums.\n",
      "3. **Walruses**: The largest of the pinnipeds (fin-footed mammals), walruses are known for their distinctive tusks and whiskers. They inhabit the Arctic and sub-Arctic regions.\n",
      "4. **Manatees and Dugongs**: These large, slow-moving mammals are found in shallow waters in the Caribbean and Indo-Pacific regions. They're herbivores and play a vital role in maintaining seaweed beds.\n",
      "5. **Otters**: While not exclusively ocean-dwellers, some otter species (like sea otters) spend most of their time at sea, using tools to crack open shells and feed on seafood.\n",
      "6. **Pinnipeds** (including **Monk Seals**, **Leopard Seals**, and **Weddell Seals**): These marine mammals are closely related to seals and sea lions but have distinct adaptations for life in the water.\n",
      "\n",
      "Each of these ocean mammals has unique characteristics, behaviors, and habitats that make them fascinating to learn about!\n",
      "\n",
      "Which one would you like to explore further?\n",
      "================================\u001b[1m Human Message \u001b[0m=================================\n",
      "Name: Lance\n",
      "\n",
      "Tell me more about Narwhals!\n",
      "==================================\u001b[1m Ai Message \u001b[0m==================================\n",
      "\n",
      "The narwhal! It's one of the most fascinating and mysterious creatures in the ocean. Here are some interesting facts about these unique animals:\n",
      "\n",
      "1. **The \"Unicorn of the Sea\"**: The narwhal is often referred to as the \"unicorn of the sea\" due to its distinctive tusk, which resembles a horn. However, the tusk is actually a modified tooth that can grow up to 10 feet (3 meters) long.\n",
      "2. **Arctic Habitat**: Narwhals are found in the Arctic waters of Canada, Greenland, and Russia. They inhabit the sea ice and coastal areas, where they feed on arctic cod, shrimp, and other marine animals.\n",
      "3. **Social Creatures**: Narwhals are social animals that live in small groups, called \"pods.\" These pods can range from 2 to 100 individuals and are typically led by a dominant female.\n",
      "4. **Unique Communication**: Narwhals use a variety of clicks, whistles, and body language to communicate with each other. They also use echolocation to navigate and find prey in the dark Arctic waters.\n",
      "5. **Conservation Status**: Narwhals are listed as \"Vulnerable\" on the IUCN Red List due to climate change, habitat loss, and hunting. Their population is estimated to be around 10,000 individuals.\n",
      "6. **Ancient Origins**: The narwhal's tusk has been found in the remains of ancient humans, including Viking warriors and Phoenician sailors. This suggests that narwhals have been an important part of human culture for thousands of years.\n",
      "7. **Mythology and Folklore**: In Norse mythology, the narwhal was believed to be a magical creature with healing powers. The Viking king Harald Bluetooth even used a narwhal tusk as a scepter in his coronation ceremony.\n",
      "8. **Diet and Feeding Habits**: Narwhals are carnivores and feed on a variety of marine animals, including fish, shrimp, and crabs. They also use their tusk to stun prey before consuming it.\n",
      "9. **Speed and Agility**: Despite their size, narwhals are incredibly agile and fast swimmers. They can reach speeds of up to 35 miles per hour (56 kilometers per hour) when chasing prey or escaping predators.\n",
      "10. **Scientific Research**: Scientists continue to study narwhals to learn more about their behavior, ecology, and conservation needs. Researchers use a variety of techniques, including acoustic monitoring, satellite tracking, and camera traps.\n",
      "\n",
      "These fascinating creatures are truly one of the most unique and captivating animals in the ocean.\n"
     ]
    }
   ],
   "source": [
    "# Invoke, using message filtering\n",
    "output = graph.invoke({'messages': messages})\n",
    "for m in output['messages']:\n",
    "    m.pretty_print()"
   ]
  },
  {
   "cell_type": "markdown",
   "id": "42e1d8d2-e297-4d78-b54c-d12b3c866745",
   "metadata": {},
   "source": [
    "The state has all of the mesages.\n",
    "\n",
    "But, let's look at the LangSmith trace to see that the model invocation only uses the last message:\n",
    "\n",
    "https://smith.langchain.com/public/75aca3ce-ef19-4b92-94be-0178c7a660d9/r"
   ]
  },
  {
   "cell_type": "markdown",
   "id": "fc40d930-3c1f-47fe-8d2a-ce174873353c",
   "metadata": {},
   "source": [
    "## Trim messages\n",
    "\n",
    "Another approach is to [trim messages](https://python.langchain.com/v0.2/docs/how_to/trim_messages/#getting-the-last-max_tokens-tokens), based upon a set number of tokens. \n",
    "\n",
    "This restricts the message history to a specified number of tokens.\n",
    "\n",
    "While filtering only returns a post-hoc subset of the messages between agents, trimming restricts the number of tokens that a chat model can use to respond.\n",
    "\n",
    "See the `trim_messages` below."
   ]
  },
  {
   "cell_type": "code",
   "execution_count": 15,
   "id": "2ff99b81-cf03-4cc2-b44f-44829a73e1fd",
   "metadata": {},
   "outputs": [
    {
     "data": {
      "image/jpeg": "[encoded data removed]",
      "text/plain": [
       "<IPython.core.display.Image object>"
      ]
     },
     "metadata": {},
     "output_type": "display_data"
    }
   ],
   "source": [
    "from langchain_core.messages import trim_messages\n",
    "\n",
    "# Node\n",
    "def chat_model_node(state: MessagesState):\n",
    "    messages = trim_messages(\n",
    "            state[\"messages\"],\n",
    "            max_tokens=100,\n",
    "            strategy=\"last\",\n",
    "            token_counter=ChatOpenAI(model=\"gpt-4o\"),\n",
    "            allow_partial=False,\n",
    "        )\n",
    "    return {\"messages\": [llm.invoke(messages)]}\n",
    "\n",
    "# Build graph\n",
    "builder = StateGraph(MessagesState)\n",
    "builder.add_node(\"chat_model\", chat_model_node)\n",
    "builder.add_edge(START, \"chat_model\")\n",
    "builder.add_edge(\"chat_model\", END)\n",
    "graph = builder.compile()\n",
    "\n",
    "# View\n",
    "display(Image(graph.get_graph().draw_mermaid_png()))"
   ]
  },
  {
   "cell_type": "code",
   "execution_count": 16,
   "id": "24df63ac-da29-4874-b3df-7e390e97cc8a",
   "metadata": {},
   "outputs": [],
   "source": [
    "messages.append(output['messages'][-1])\n",
    "messages.append(HumanMessage(f\"Tell me where Orcas live!\", name=\"Lance\"))"
   ]
  },
  {
   "cell_type": "code",
   "execution_count": 17,
   "id": "6d9d8971-c75c-43ca-a209-eb1d07b2ead0",
   "metadata": {},
   "outputs": [
    {
     "data": {
      "text/plain": [
       "[HumanMessage(content='Tell me where Orcas live!', name='Lance')]"
      ]
     },
     "execution_count": 17,
     "metadata": {},
     "output_type": "execute_result"
    }
   ],
   "source": [
    "# Example of trimming messages\n",
    "trim_messages(\n",
    "            messages,\n",
    "            max_tokens=100,\n",
    "            strategy=\"last\",\n",
    "            token_counter=ChatOpenAI(model=\"gpt-4o\"),\n",
    "            allow_partial=False\n",
    "        )"
   ]
  },
  {
   "cell_type": "code",
   "execution_count": 18,
   "id": "ed70a269-a869-4fa0-a1df-29736a432c51",
   "metadata": {},
   "outputs": [],
   "source": [
    "# Invoke, using message trimming in the chat_model_node \n",
    "messages_out_trim = graph.invoke({'messages': messages})"
   ]
  },
  {
   "cell_type": "markdown",
   "id": "38b3db67-380e-46b5-9a6a-20100ba52008",
   "metadata": {},
   "source": [
    "Let's look at the LangSmith trace to see the model invocation:\n",
    "\n",
    "https://smith.langchain.com/public/b153f7e9-f1a5-4d60-8074-f0d7ab5b42ef/r"
   ]
  }
 ],
 "metadata": {
  "kernelspec": {
   "display_name": "lc",
   "language": "python",
   "name": "python3"
  },
  "language_info": {
   "codemirror_mode": {
    "name": "ipython",
    "version": 3
   },
   "file_extension": ".py",
   "mimetype": "text/x-python",
   "name": "python",
   "nbconvert_exporter": "python",
   "pygments_lexer": "ipython3",
   "version": "3.11.11"
  }
 },
 "nbformat": 4,
 "nbformat_minor": 5
}
